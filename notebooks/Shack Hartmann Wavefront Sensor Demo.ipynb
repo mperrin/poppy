{
 "cells": [
  {
   "cell_type": "code",
   "execution_count": 1,
   "metadata": {},
   "outputs": [
    {
     "name": "stderr",
     "output_type": "stream",
     "text": [
      "/anaconda3/envs/astroconda/lib/python3.5/site-packages/pysynphot/locations.py:46: UserWarning: PYSYN_CDBS is undefined; functionality will be SEVERELY crippled.\n",
      "  warnings.warn(\"PYSYN_CDBS is undefined; functionality will be SEVERELY \"\n",
      "/anaconda3/envs/astroconda/lib/python3.5/site-packages/pysynphot/locations.py:329: UserWarning: Extinction files not found in extinction\n",
      "  warnings.warn('Extinction files not found in %s' % (extdir, ))\n",
      "/anaconda3/envs/astroconda/lib/python3.5/site-packages/pysynphot/refs.py:118: UserWarning: No graph or component tables found; functionality will be SEVERELY crippled. No files found for ftp://ftp.stsci.edu/cdbs/mtab/*_tmg.fits\n",
      "  'functionality will be SEVERELY crippled. ' + str(e))\n",
      "/anaconda3/envs/astroconda/lib/python3.5/site-packages/pysynphot/refs.py:125: UserWarning: No thermal tables found, no thermal calculations can be performed. No files found for ftp://ftp.stsci.edu/cdbs/mtab/*_tmt.fits\n",
      "  'no thermal calculations can be performed. ' + str(e))\n"
     ]
    },
    {
     "name": "stdout",
     "output_type": "stream",
     "text": [
      "0.9.0\n"
     ]
    }
   ],
   "source": [
    "import matplotlib\n",
    "%matplotlib inline \n",
    "# matplotlib.use('agg')\n",
    "# coding: utf-8\n",
    "\n",
    "import csv\n",
    "import poppy\n",
    "# get_ipython().run_line_magic('pylab', 'inline --no-import-all')\n",
    "# matplotlib.rcParams['image.origin'] = 'lower'\n",
    "print(poppy.__version__)\n",
    "\n",
    "from poppy.sub_sampled_optics import Subapertures, ShackHartmannWavefrontSensor\n",
    "from poppy.poppy_core import PlaneType\n",
    "from matplotlib.colors import LogNorm\n",
    "import poppy.fwcentroid as fwcentroid\n",
    "from matplotlib import pyplot as plt\n",
    "\n",
    "import logging\n",
    "import astropy.units as u\n",
    "import copy\n",
    "import numpy as np\n",
    "logging.getLogger('poppy').setLevel(logging.INFO)  \n",
    "#Can be logging.CRITICAL, logging.WARN, logging.INFO, logging.DEBUG for increasingly verbose output\n"
   ]
  },
  {
   "cell_type": "markdown",
   "metadata": {},
   "source": [
    "### Demonstration of POPPY ShackHartmannWavefrontSensor class\n",
    "\n",
    "Demonstrates setup of a Shack Hartmann wavefront sensor (SHWFS) simulation. SHWFS class is based on the Subapertures class, both are located in sub_sampled_optics.py.\n",
    "\n",
    "Simulation sets up simple optical system with deformable mirror (DM). A single actuator on the DM is poked and then measured with the Shack Hartmann wavefront sensor. "
   ]
  },
  {
   "cell_type": "code",
   "execution_count": 2,
   "metadata": {},
   "outputs": [
    {
     "name": "stdout",
     "output_type": "stream",
     "text": [
      "n lenslets 10\n"
     ]
    },
    {
     "name": "stderr",
     "output_type": "stream",
     "text": [
      "/Users/rachelmorgan/poppy/poppy/geometry.py:40: RuntimeWarning: divide by zero encountered in true_divide\n",
      "  return 0.5 * r**2 * (np.arctan(y1/x) - np.arctan(y0/x))\n",
      "/Users/rachelmorgan/poppy/poppy/geometry.py:40: RuntimeWarning: divide by zero encountered in true_divide\n",
      "  return 0.5 * r**2 * (np.arctan(y1/x) - np.arctan(y0/x))\n"
     ]
    },
    {
     "data": {
      "image/png": "[encoded data removed]",
      "text/plain": [
       "<Figure size 432x288 with 2 Axes>"
      ]
     },
     "metadata": {
      "needs_background": "light"
     },
     "output_type": "display_data"
    }
   ],
   "source": [
    "## Set up simulation: \n",
    "\n",
    "## define parameters: \n",
    "wavelength = .635e-6 #red\n",
    "pixel_pitch = 2.2*u.um #both detectors have same pixel pitch \n",
    "lenslet_pitch = 150*u.um\n",
    "dm_size = lenslet_pitch*10\n",
    "n_lenslets=int((dm_size.to(u.m)/lenslet_pitch.to(u.m)).value)\n",
    "print(\"n lenslets\", n_lenslets)\n",
    "lenslet_focal_length = .0037*u.m\n",
    "pix_per_lenslet = int(lenslet_pitch/pixel_pitch)\n",
    "\n",
    "plate_scale = 1.0*u.rad/(lenslet_focal_length*u.pix/pixel_pitch) \n",
    "\n",
    "## define DM\n",
    "act_x = 2\n",
    "act_y = 2\n",
    "stroke = .3e-6\n",
    "dm_actuator_pitch = dm_size/4 \n",
    "dm = poppy.dms.ContinuousDeformableMirror(dm_shape=(4,4), \n",
    "    actuator_spacing=dm_actuator_pitch, radius=dm_size/2, \n",
    "    inclination_x =45)\n",
    "dm.set_actuator(act_x, act_y, 2*stroke)\n",
    " #note *2 to account for reflection off of DM (OPD is 2* surface shape)\n",
    "\n",
    "dm.display() # display optical path difference on DM\n",
    "\n",
    "# setup flat wavefront to calculate nominal spot locations on SHWFS\n",
    "wf_flat = poppy.Wavefront(diam=dm_size, wavelength=wavelength, npix=68*n_lenslets)\n",
    "wf_flat *= poppy.CircularAperture(radius = dm_size/2)\n",
    "\n",
    "# define Wavefront object for simulation, reflect off DM \n",
    "wf = poppy.Wavefront(diam=dm_size, wavelength=wavelength, npix=68*n_lenslets)\n",
    "wf *= poppy.CircularAperture(radius = dm_size/2)\n",
    "wf *= dm \n"
   ]
  },
  {
   "cell_type": "code",
   "execution_count": 3,
   "metadata": {},
   "outputs": [],
   "source": [
    "# define SHWFS object with relevant parameters\n",
    "\n",
    "# the SHWFS simulation is a subarray of lenslets defined by the lenslet pitch and lenslet focal length. \n",
    "# The SHWFS class subsamples a wavefront according with subapertures defined by the lenslet pitch and shape, \n",
    "# then focuses each subsampled wavefront onto the detector according to the input lenslet focal length and pixel pitch.   \n",
    "\n",
    "shwfs = ShackHartmannWavefrontSensor(lenslet_pitch= lenslet_pitch, \n",
    "               lenslet_fl=lenslet_focal_length, \n",
    "               pixel_pitch=pixel_pitch, \n",
    "               n_lenslets = n_lenslets, \n",
    "               circular = True)"
   ]
  },
  {
   "cell_type": "code",
   "execution_count": 4,
   "metadata": {},
   "outputs": [
    {
     "name": "stderr",
     "output_type": "stream",
     "text": [
      "/Users/rachelmorgan/poppy/poppy/geometry.py:40: RuntimeWarning: divide by zero encountered in true_divide\n",
      "  return 0.5 * r**2 * (np.arctan(y1/x) - np.arctan(y0/x))\n",
      "Setting centroid of aperture with no flux to NaN.\n",
      "Setting centroid of aperture with no flux to NaN.\n",
      "Setting centroid of aperture with no flux to NaN.\n",
      "Setting centroid of aperture with no flux to NaN.\n",
      "Setting centroid of aperture with no flux to NaN.\n",
      "Setting centroid of aperture with no flux to NaN.\n",
      "Setting centroid of aperture with no flux to NaN.\n",
      "Setting centroid of aperture with no flux to NaN.\n",
      "Setting centroid of aperture with no flux to NaN.\n",
      "Setting centroid of aperture with no flux to NaN.\n",
      "Setting centroid of aperture with no flux to NaN.\n",
      "Setting centroid of aperture with no flux to NaN.\n"
     ]
    }
   ],
   "source": [
    "#get flat centroids for wf reconstruction:\n",
    "shwfs.sample_wf(wf_flat)\n",
    "shwfs.get_psfs()\n",
    "flat_centroid_list = shwfs.get_centroids()\n",
    "\n",
    "#sample actual wf and propagate to detector: \n",
    "shwfs.sample_wf(wf)\n",
    "shwfs.get_psfs()\n"
   ]
  },
  {
   "cell_type": "code",
   "execution_count": 5,
   "metadata": {},
   "outputs": [
    {
     "name": "stdout",
     "output_type": "stream",
     "text": [
      "Tiling propagated wavefront arrays.\n"
     ]
    },
    {
     "data": {
      "text/plain": [
       "Text(0.5,1,'Single Lenslet PSF')"
      ]
     },
     "execution_count": 5,
     "metadata": {},
     "output_type": "execute_result"
    },
    {
     "data": {
      "image/png": "[encoded data removed]",
      "text/plain": [
       "<Figure size 432x288 with 2 Axes>"
      ]
     },
     "metadata": {
      "needs_background": "light"
     },
     "output_type": "display_data"
    },
    {
     "data": {
      "image/png": "[encoded data removed]",
      "text/plain": [
       "<Figure size 432x288 with 2 Axes>"
      ]
     },
     "metadata": {
      "needs_background": "light"
     },
     "output_type": "display_data"
    }
   ],
   "source": [
    "# retrieve and display wavefront array:\n",
    "wf_array = shwfs.get_wavefront_array()\n",
    "plt.figure()\n",
    "plt.imshow(wf_array.intensity, cmap = 'gray')\n",
    "plt.colorbar(label = 'intensity')\n",
    "plt.xlabel('pixels')\n",
    "plt.ylabel('pixels')\n",
    "plt.title(\"SHWFS Lenslet Spots\")\n",
    "\n",
    "# display single psf: \n",
    "single_psf = shwfs.wf_array[5,5]\n",
    "plt.figure()\n",
    "plt.imshow(single_psf.intensity, cmap = 'gray')\n",
    "plt.colorbar(label = 'intensity')\n",
    "plt.xlabel('pixels')\n",
    "plt.ylabel('pixels')\n",
    "plt.title(\"Single Lenslet PSF\")"
   ]
  },
  {
   "cell_type": "code",
   "execution_count": 6,
   "metadata": {},
   "outputs": [
    {
     "name": "stderr",
     "output_type": "stream",
     "text": [
      "Setting centroid of aperture with no flux to NaN.\n",
      "Setting centroid of aperture with no flux to NaN.\n",
      "Setting centroid of aperture with no flux to NaN.\n",
      "Setting centroid of aperture with no flux to NaN.\n",
      "Setting centroid of aperture with no flux to NaN.\n",
      "Setting centroid of aperture with no flux to NaN.\n",
      "Setting centroid of aperture with no flux to NaN.\n",
      "Setting centroid of aperture with no flux to NaN.\n",
      "Setting centroid of aperture with no flux to NaN.\n",
      "Setting centroid of aperture with no flux to NaN.\n",
      "Setting centroid of aperture with no flux to NaN.\n",
      "Setting centroid of aperture with no flux to NaN.\n"
     ]
    },
    {
     "name": "stdout",
     "output_type": "stream",
     "text": [
      "Algorithm terminated at max iterations without convergence.\n"
     ]
    },
    {
     "name": "stderr",
     "output_type": "stream",
     "text": [
      "Setting centroid of aperture with no flux to NaN.\n",
      "Setting centroid of aperture with no flux to NaN.\n",
      "Setting centroid of aperture with no flux to NaN.\n"
     ]
    },
    {
     "name": "stdout",
     "output_type": "stream",
     "text": [
      "Algorithm terminated at max iterations without convergence.\n"
     ]
    },
    {
     "name": "stderr",
     "output_type": "stream",
     "text": [
      "Setting centroid of aperture with no flux to NaN.\n",
      "Setting centroid of aperture with no flux to NaN.\n",
      "Setting centroid of aperture with no flux to NaN.\n",
      "Setting centroid of aperture with no flux to NaN.\n",
      "Setting centroid of aperture with no flux to NaN.\n"
     ]
    },
    {
     "name": "stdout",
     "output_type": "stream",
     "text": [
      "Algorithm terminated at max iterations without convergence.\n"
     ]
    },
    {
     "name": "stderr",
     "output_type": "stream",
     "text": [
      "Setting centroid of aperture with no flux to NaN.\n",
      "Setting centroid of aperture with no flux to NaN.\n",
      "Setting centroid of aperture with no flux to NaN.\n",
      "Setting centroid of aperture with no flux to NaN.\n",
      "Setting centroid of aperture with no flux to NaN.\n",
      "Setting centroid of aperture with no flux to NaN.\n",
      "Setting centroid of aperture with no flux to NaN.\n",
      "Setting centroid of aperture with no flux to NaN.\n",
      "Setting centroid of aperture with no flux to NaN.\n",
      "Setting centroid of aperture with no flux to NaN.\n",
      "Setting centroid of aperture with no flux to NaN.\n",
      "Setting centroid of aperture with no flux to NaN.\n"
     ]
    },
    {
     "name": "stdout",
     "output_type": "stream",
     "text": [
      "Algorithm terminated at max iterations without convergence.\n"
     ]
    }
   ],
   "source": [
    "# reconstruct wavefront using Zonal Reconstruction algorithm with the Southwell geometry \n",
    "# (currently only reconstruction method built-in to SHWFS class):\n",
    "reconstruction = shwfs.reconstruct_wavefront(flat_centroid_list)\n",
    "\n",
    "# this function calculates the centroids and computes the reconstruction based on the offset between \n",
    "# these centroids and the ones computed for a flat wavefront"
   ]
  },
  {
   "cell_type": "code",
   "execution_count": 7,
   "metadata": {},
   "outputs": [
    {
     "data": {
      "text/plain": [
       "Text(0.5,1,'Reconstructed Wavefront')"
      ]
     },
     "execution_count": 7,
     "metadata": {},
     "output_type": "execute_result"
    },
    {
     "data": {
      "image/png": "[encoded data removed]",
      "text/plain": [
       "<Figure size 432x288 with 2 Axes>"
      ]
     },
     "metadata": {
      "needs_background": "light"
     },
     "output_type": "display_data"
    }
   ],
   "source": [
    "#display result:\n",
    "plt.figure()\n",
    "plt.imshow(reconstruction.value)\n",
    "plt.colorbar(label = \"Wavefront error, \" + str(reconstruction.unit))\n",
    "plt.xlabel(\"x lenslet\")\n",
    "plt.ylabel(\"y lenslet\")\n",
    "plt.title(\"Reconstructed Wavefront\")\n"
   ]
  },
  {
   "cell_type": "code",
   "execution_count": null,
   "metadata": {},
   "outputs": [],
   "source": []
  },
  {
   "cell_type": "code",
   "execution_count": null,
   "metadata": {},
   "outputs": [],
   "source": []
  }
 ],
 "metadata": {
  "kernelspec": {
   "display_name": "Python 3",
   "language": "python",
   "name": "python3"
  },
  "language_info": {
   "codemirror_mode": {
    "name": "ipython",
    "version": 3
   },
   "file_extension": ".py",
   "mimetype": "text/x-python",
   "name": "python",
   "nbconvert_exporter": "python",
   "pygments_lexer": "ipython3",
   "version": "3.5.6"
  }
 },
 "nbformat": 4,
 "nbformat_minor": 2
}
