{
 "cells": [
  {
   "cell_type": "markdown",
   "metadata": {},
   "source": [
    "# Thermal Blooming Demo"
   ]
  },
  {
   "cell_type": "code",
   "execution_count": 1,
   "metadata": {},
   "outputs": [],
   "source": [
    "import numpy as np\n",
    "import poppy\n",
    "import astropy.units as u\n",
    "import matplotlib.pyplot as plt\n",
    "from copy import deepcopy\n",
    "\n",
    "\n",
    "w0 = 14.15*u.cm            # beam radius\n",
    "P0 = 100e3                 # beam power (W)\n",
    "L = 2.0*u.km               # propagation distance (m)\n",
    "w_extend = 10              # weight of the spatial extend\n",
    "wavelength = 10.6*u.um     # wavelength in vacuum (m)\n",
    "M2 = 1.0                   # beam quality factor\n",
    "n0 = 1.00027398            # ambient refractive index\n",
    "R0 = L                     # initial radius of curvature\n",
    "npix = 512                 # number of pixels\n",
    "oversample = 1             # oversampling factor\n",
    "Cn2 = 1.0e-14*u.m**(-2/3)  # index-of-refraction structure constant\n",
    "aero_abs_coeff = 7e-7/u.cm # absorption coefficient due to aerosols\n",
    "nz = 20                    # number of phase screens\n",
    "dz = L/nz                  # propagation step\n",
    "v0x = 200.0*u.cm/u.s       # ambient wind velocity in x-direction\n",
    "v0y = 0.0*u.m/u.s          # ambient wind velocity in y-direction"
   ]
  },
  {
   "cell_type": "code",
   "execution_count": 2,
   "metadata": {},
   "outputs": [
    {
     "name": "stderr",
     "output_type": "stream",
     "text": [
      "Oversampling > 2x suggested for reliable results.\n"
     ]
    }
   ],
   "source": [
    "wf = poppy.PhysicalFresnelWavefront(beam_radius=w_extend*w0/2,\n",
    "                                    wavelength=wavelength,\n",
    "                                    units=u.m,\n",
    "                                    npix=npix,\n",
    "                                    oversample=oversample,\n",
    "                                    M2=M2, n0=n0)\n",
    "wf *= poppy.GaussianAperture(w=w0)\n",
    "wf *= poppy.QuadPhase(-R0)\n",
    "wf.scale_power(P0)"
   ]
  },
  {
   "cell_type": "code",
   "execution_count": 3,
   "metadata": {},
   "outputs": [],
   "source": [
    "for l in range(nz+1):\n",
    "    if l==0 or l==nz:\n",
    "        delta = dz/2\n",
    "    else:\n",
    "        delta = dz\n",
    "    wf.propagate_fresnel(delta)\n",
    "    if l != nz:\n",
    "        phase_screen = poppy.ThermalBloomingWFE(aero_abs_coeff, delta, v0x=v0x, direction='x', isobaric=True)    \n",
    "        wf *= phase_screen"
   ]
  },
  {
   "cell_type": "code",
   "execution_count": 6,
   "metadata": {},
   "outputs": [
    {
     "data": {
      "text/plain": [
       "Text(0,0.5,'y (m)')"
      ]
     },
     "execution_count": 6,
     "metadata": {},
     "output_type": "execute_result"
    },
    {
     "data": {
      "image/png": "[encoded data removed]",
      "text/plain": [
       "<Figure size 864x360 with 1 Axes>"
      ]
     },
     "metadata": {},
     "output_type": "display_data"
    }
   ],
   "source": [
    "y, x = wf.coordinates()\n",
    "z = wf.intensity.T\n",
    "idx = np.unravel_index(np.argmax(z, axis=None), z.shape)\n",
    "\n",
    "fig = plt.figure(figsize=(12,5))\n",
    "fig.clf()\n",
    "\n",
    "levels = np.array([0.09, 0.14, 0.23, 0.36, 0.57, 0.9])*z.max()\n",
    "ax = fig.add_subplot(111)\n",
    "cf = ax.contour(x, y, z, levels=levels, colors='k')\n",
    "plt.plot([0.0, 0.0], [x.min(), x.max()], '-k')\n",
    "plt.plot([x.min(), x.max()], [0.0, 0.0], '-k')\n",
    "plt.plot([x[0,:][idx[1]]], [x[0,:][idx[0]]], 'xr')\n",
    "ax.set_aspect('equal')\n",
    "ax.set_xlabel('x (m)')\n",
    "ax.set_ylabel('y (m)')"
   ]
  },
  {
   "cell_type": "code",
   "execution_count": null,
   "metadata": {},
   "outputs": [],
   "source": []
  }
 ],
 "metadata": {
  "kernelspec": {
   "display_name": "Python 3",
   "language": "python",
   "name": "python3"
  },
  "language_info": {
   "codemirror_mode": {
    "name": "ipython",
    "version": 3
   },
   "file_extension": ".py",
   "mimetype": "text/x-python",
   "name": "python",
   "nbconvert_exporter": "python",
   "pygments_lexer": "ipython3",
   "version": "3.6.5"
  }
 },
 "nbformat": 4,
 "nbformat_minor": 2
}
