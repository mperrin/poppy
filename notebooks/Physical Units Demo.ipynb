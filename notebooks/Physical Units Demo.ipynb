{
 "cells": [
  {
   "cell_type": "markdown",
   "metadata": {},
   "source": [
    "# Physical Units Demo"
   ]
  },
  {
   "cell_type": "markdown",
   "metadata": {},
   "source": [
    "This notebook demonstrates the abilites of the `PhysicalFresnelWavefront` class.\n",
    "\n",
    "The most important change is that the `wavefront` array now contains values that have units of an actual electric field, i.e. V/m. This is of special importance once non-linear effects are of interest. For example, the thermal blooming effect results from a high-energy laser which heats the air and induces refractive-index changes. For this effect to be implemented, one needs to have the intensity distribution in physical units at disposal. The class `PhysicalFresnelWavefront` is designed to provide exactly this.\n",
    "\n",
    "An additional functionality is a rudimentary ability to emulate a beam quality factor. This has been done by scaling the wavelength accordingly. The capability to measure the beam quality factor is also implemented. This is useful in cases of arbitrary initial field distributions, where it might not be known."
   ]
  },
  {
   "cell_type": "markdown",
   "metadata": {},
   "source": [
    "## Demo 1: Beam Power"
   ]
  },
  {
   "cell_type": "markdown",
   "metadata": {},
   "source": [
    "The beam power is very easy to apply. However, be careful when to apply a power, since it may result in unexpected behaviour. When the intensity is scaled before applying an aperture for example, the power will change. Let us begin by importing relevant packages and defining some constants."
   ]
  },
  {
   "cell_type": "code",
   "execution_count": 1,
   "metadata": {},
   "outputs": [],
   "source": [
    "%matplotlib inline\n",
    "import poppy\n",
    "import matplotlib.pyplot as plt\n",
    "import astropy.units as u\n",
    "\n",
    "w0 = 10e-2              # beam radius (m)\n",
    "P0 = 10e3               # beam power (W)\n",
    "w_extend = 6            # weight of the spatial extend\n",
    "wavelength = 1064e-9    # wavelength in vacuum (m)\n",
    "R0 = 100                # initial radius of curvature (m)\n",
    "npix = 256              # spatial resolution"
   ]
  },
  {
   "cell_type": "markdown",
   "metadata": {},
   "source": [
    "Now lets define a wavefunction and apply an aperture, lens, and power."
   ]
  },
  {
   "cell_type": "code",
   "execution_count": 2,
   "metadata": {},
   "outputs": [
    {
     "name": "stdout",
     "output_type": "stream",
     "text": [
      "P = 10.00 kW\n"
     ]
    }
   ],
   "source": [
    "wf = poppy.PhysicalFresnelWavefront(beam_radius=w_extend*w0*u.m,\n",
    "                                    wavelength=wavelength,\n",
    "                                    npix=npix,\n",
    "                                    oversample=2)\n",
    "\n",
    "wf *= poppy.GaussianAperture(w=w0*u.m)\n",
    "wf *= poppy.QuadraticLens(f_lens=R0*u.m)\n",
    "\n",
    "wf.scale_power(P0)\n",
    "\n",
    "print(\"P = {0:.2f} kW\".format(wf.power*1e-3))"
   ]
  },
  {
   "cell_type": "markdown",
   "metadata": {},
   "source": [
    "Next, let us see what happens when we apply the power before the aperture."
   ]
  },
  {
   "cell_type": "code",
   "execution_count": 3,
   "metadata": {},
   "outputs": [
    {
     "name": "stdout",
     "output_type": "stream",
     "text": [
      "P = 0.11 kW\n"
     ]
    }
   ],
   "source": [
    "wf = poppy.PhysicalFresnelWavefront(beam_radius=w_extend*w0*u.m,\n",
    "                                    wavelength=wavelength,\n",
    "                                    npix=npix,\n",
    "                                    oversample=2)\n",
    "\n",
    "wf.scale_power(P0)\n",
    "wf *= poppy.GaussianAperture(w=w0*u.m)\n",
    "wf *= poppy.QuadraticLens(f_lens=R0*u.m)\n",
    "\n",
    "print(\"P = {0:.2f} kW\".format(wf.power*1e-3))"
   ]
  },
  {
   "cell_type": "markdown",
   "metadata": {},
   "source": [
    "The power values differ from the first result because the power is applied and calculated using the current intensity distribution, which differ as well. So always take care of when to apply the power."
   ]
  },
  {
   "cell_type": "markdown",
   "metadata": {},
   "source": [
    "## Demo 2: Beam Quality Factor"
   ]
  },
  {
   "cell_type": "markdown",
   "metadata": {},
   "source": [
    "We can assign a beam quality factor to the beam which only scaled the wavelength appropriately. However, from the analytical equation for the beam radius one can see that this should work as expected. Let us test it by using the implemented beam quality measurement calculation based on ISO Standard 11146 (see https://www.rp-photonics.com/beam_quality.html)"
   ]
  },
  {
   "cell_type": "code",
   "execution_count": 4,
   "metadata": {},
   "outputs": [
    {
     "name": "stdout",
     "output_type": "stream",
     "text": [
      "M2 = 3.83\n"
     ]
    }
   ],
   "source": [
    "wf = poppy.PhysicalFresnelWavefront(beam_radius=w_extend*w0*u.m,\n",
    "                                    wavelength=wavelength,\n",
    "                                    npix=npix,\n",
    "                                    oversample=2,\n",
    "                                    M2=3.827)\n",
    "wf *= poppy.GaussianAperture(w=w0*u.m)\n",
    "wf *= poppy.QuadraticLens(f_lens=30*u.cm)\n",
    "wf.scale_power(P0)\n",
    "\n",
    "M2, z, caustic, z_fine, w_fit, rayleigh_length = wf.M2()\n",
    "\n",
    "print(\"M2 = {0:.2f}\".format(M2))"
   ]
  },
  {
   "cell_type": "markdown",
   "metadata": {},
   "source": [
    "I did not test the algorithm to very large extend, but it worked for my purposes. The results of the $M^2$ fitting routine is shown along with the values used to obtain the fit (red dots) in the following Figure."
   ]
  },
  {
   "cell_type": "code",
   "execution_count": 5,
   "metadata": {},
   "outputs": [
    {
     "data": {
      "text/plain": [
       "[<matplotlib.lines.Line2D at 0x110ba4390>]"
      ]
     },
     "execution_count": 5,
     "metadata": {},
     "output_type": "execute_result"
    },
    {
     "data": {
      "image/png": "[encoded data removed]",
      "text/plain": [
       "<Figure size 432x288 with 1 Axes>"
      ]
     },
     "metadata": {},
     "output_type": "display_data"
    }
   ],
   "source": [
    "plt.plot((z_fine-z_fine.min())*1e5, w_fit*1e6, '-k')\n",
    "plt.plot((z-z_fine.min())*1e5, caustic*1e6, 'or')"
   ]
  },
  {
   "cell_type": "markdown",
   "metadata": {},
   "source": [
    "## Demo 3: Normal propagation"
   ]
  },
  {
   "cell_type": "markdown",
   "metadata": {},
   "source": [
    "Finally, lets have a quik look on how to propagage by examining the field at the focus and printing the power to the console."
   ]
  },
  {
   "cell_type": "code",
   "execution_count": 6,
   "metadata": {},
   "outputs": [
    {
     "name": "stdout",
     "output_type": "stream",
     "text": [
      "P(0m) = 10.00 kW\n",
      "r(0m) = 10.00 cm\n",
      "P(100m) = 9.05 kW\n",
      "r(100m) = 23.33 cm\n"
     ]
    },
    {
     "data": {
      "image/png": "[encoded data removed]",
      "text/plain": [
       "<Figure size 432x288 with 1 Axes>"
      ]
     },
     "metadata": {},
     "output_type": "display_data"
    },
    {
     "data": {
      "image/png": "[encoded data removed]",
      "text/plain": [
       "<Figure size 432x288 with 1 Axes>"
      ]
     },
     "metadata": {},
     "output_type": "display_data"
    }
   ],
   "source": [
    "wf = poppy.PhysicalFresnelWavefront(beam_radius=w_extend*w0*u.m,\n",
    "                                    wavelength=wavelength,\n",
    "                                    npix=npix,\n",
    "                                    oversample=2,\n",
    "                                    M2=3.827)\n",
    "wf *= poppy.GaussianAperture(w=w0*u.m)\n",
    "wf *= poppy.QuadraticLens(f_lens=30*u.m)\n",
    "wf.scale_power(P0)\n",
    "\n",
    "print(\"P(0m) = {0:.2f} kW\".format(wf.power*1e-3))\n",
    "print(\"r(0m) = {0:.2f} cm\".format(wf.radius[0]*1e2))\n",
    "\n",
    "plt.figure(1)\n",
    "wf.display()\n",
    "\n",
    "wf.propagate_fresnel(100*u.m, attenuation_coeff=1e-3)\n",
    "\n",
    "plt.figure(2)\n",
    "wf.display()\n",
    "\n",
    "print(\"P(100m) = {0:.2f} kW\".format(wf.power*1e-3))\n",
    "print(\"r(100m) = {0:.2f} cm\".format(wf.radius[0]*1e2))"
   ]
  },
  {
   "cell_type": "markdown",
   "metadata": {},
   "source": [
    "## Conclusion"
   ]
  },
  {
   "cell_type": "markdown",
   "metadata": {},
   "source": [
    "The class `PhysicalFresnelWavefront` implemented an alternative units convention for the electric field and intensity. At the moment, this doesn't change any propagation results. However, if accepted to be included into poppy, I can provide a thermal blooming phase screen (implemented as a `OpticalElement`) which relies on physical units of the intensity because it is a non-linear effect. In its current state, the class does not follow with poppy's conventions, e.g. I did not craft it to use astropy's units package whenever possible. My intent is basically to find out if the community and poppy developers are interested in the capabilites this class provides and features that can build upon it (for example a thermal blooming phase screen)."
   ]
  },
  {
   "cell_type": "code",
   "execution_count": null,
   "metadata": {},
   "outputs": [],
   "source": []
  }
 ],
 "metadata": {
  "kernelspec": {
   "display_name": "Python 3",
   "language": "python",
   "name": "python3"
  },
  "language_info": {
   "codemirror_mode": {
    "name": "ipython",
    "version": 3
   },
   "file_extension": ".py",
   "mimetype": "text/x-python",
   "name": "python",
   "nbconvert_exporter": "python",
   "pygments_lexer": "ipython3",
   "version": "3.6.5"
  }
 },
 "nbformat": 4,
 "nbformat_minor": 2
}
